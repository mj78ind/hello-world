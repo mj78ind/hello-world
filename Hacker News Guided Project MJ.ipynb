{
 "cells": [
  {
   "cell_type": "markdown",
   "metadata": {},
   "source": [
    "# Exploring Hacker News Posts"
   ]
  },
  {
   "cell_type": "markdown",
   "metadata": {},
   "source": [
    "Baan Da Paani - jai hoIn this project, we will analyze whether more comments are received by 'Ask HN' posts or 'Show HN' posts - essentially are Hacker News visitors more interested in answering questions posed by the community or learning from the community. Furthermore, we will also assess how time of posting of a post is correlated with number of comments the post receives."
   ]
  },
  {
   "cell_type": "markdown",
   "metadata": {},
   "source": [
    "The aur le beta dataset can be found [here](https://www.kaggle.com/datasets/hacker-news/hacker-news-posts). The dataset comprises 300,000 rows but has been pared down to approximately 20,000 for project purposes. Finally, following is a list and description of the columns - \n",
    "\n",
    "id: the unique identifier from Hacker News for the post\n",
    "\n",
    "title: the title of the post\n",
    "\n",
    "url: the URL that the posts links to, if the post has a URL\n",
    "\n",
    "num_points: the number of points the post acquired, calculated as the total number of upvotes minus the total number of downvotes\n",
    "\n",
    "num_comments: the number of comments on the post\n",
    "\n",
    "author: the username of the person who submitted the post\n",
    "\n",
    "created_at: the date and time of the post's submission"
   ]
  },
  {
   "cell_type": "markdown",
   "metadata": {},
   "source": [
    "Opening and reading the csv file."
   ]
  },
  {
   "cell_type": "code",
   "execution_count": 1,
   "metadata": {},
   "outputs": [],
   "source": [
    "opened_file = open('hacker_news.csv')\n",
    "from csv import reader\n",
    "read_file = reader(opened_file)\n",
    "hn = list(read_file)"
   ]
  },
  {
   "cell_type": "markdown",
   "metadata": {},
   "source": [
    "Taking a cursory look at the data for better understanding by printing the first few rows."
   ]
  },
  {
   "cell_type": "code",
   "execution_count": 2,
   "metadata": {},
   "outputs": [
    {
     "name": "stdout",
     "output_type": "stream",
     "text": [
      "[['id', 'title', 'url', 'num_points', 'num_comments', 'author', 'created_at'], ['12224879', 'Interactive Dynamic Video', 'http://www.interactivedynamicvideo.com/', '386', '52', 'ne0phyte', '8/4/2016 11:52'], ['10975351', 'How to Use Open Source and Shut the Fuck Up at the Same Time', 'http://hueniverse.com/2016/01/26/how-to-use-open-source-and-shut-the-fuck-up-at-the-same-time/', '39', '10', 'josep2', '1/26/2016 19:30'], ['11964716', \"Florida DJs May Face Felony for April Fools' Water Joke\", 'http://www.thewire.com/entertainment/2013/04/florida-djs-april-fools-water-joke/63798/', '2', '1', 'vezycash', '6/23/2016 22:20']]\n"
     ]
    }
   ],
   "source": [
    "print(hn[:4])"
   ]
  },
  {
   "cell_type": "markdown",
   "metadata": {},
   "source": [
    "Separating the data from the headers."
   ]
  },
  {
   "cell_type": "code",
   "execution_count": 3,
   "metadata": {},
   "outputs": [
    {
     "name": "stdout",
     "output_type": "stream",
     "text": [
      "['id', 'title', 'url', 'num_points', 'num_comments', 'author', 'created_at']\n",
      "[['12224879', 'Interactive Dynamic Video', 'http://www.interactivedynamicvideo.com/', '386', '52', 'ne0phyte', '8/4/2016 11:52'], ['10975351', 'How to Use Open Source and Shut the Fuck Up at the Same Time', 'http://hueniverse.com/2016/01/26/how-to-use-open-source-and-shut-the-fuck-up-at-the-same-time/', '39', '10', 'josep2', '1/26/2016 19:30'], ['11964716', \"Florida DJs May Face Felony for April Fools' Water Joke\", 'http://www.thewire.com/entertainment/2013/04/florida-djs-april-fools-water-joke/63798/', '2', '1', 'vezycash', '6/23/2016 22:20']]\n"
     ]
    }
   ],
   "source": [
    "headers = hn[0]\n",
    "hn = hn[1:]\n",
    "\n",
    "print(headers)\n",
    "print(hn[:3])"
   ]
  },
  {
   "cell_type": "markdown",
   "metadata": {},
   "source": [
    "Calculating how many posts are of each type."
   ]
  },
  {
   "cell_type": "code",
   "execution_count": 4,
   "metadata": {},
   "outputs": [
    {
     "name": "stdout",
     "output_type": "stream",
     "text": [
      "1744\n",
      "1162\n",
      "17194\n"
     ]
    }
   ],
   "source": [
    "ask_posts = []\n",
    "show_posts = []\n",
    "other_posts = []\n",
    "\n",
    "for row in hn:\n",
    "    title = row[1]\n",
    "    if title.lower().startswith(\"ask hn\"):\n",
    "        ask_posts.append(title)\n",
    "        \n",
    "    elif title.lower().startswith(\"show hn\"):\n",
    "        show_posts.append(title)\n",
    "    else:\n",
    "        other_posts.append(title)\n",
    "        \n",
    "print(len(ask_posts))\n",
    "print(len(show_posts))\n",
    "print(len(other_posts))"
   ]
  },
  {
   "cell_type": "markdown",
   "metadata": {},
   "source": [
    "Building frequncy table for number of comments to see if there are any odd characters or entries."
   ]
  },
  {
   "cell_type": "code",
   "execution_count": 5,
   "metadata": {},
   "outputs": [],
   "source": [
    "ask_posts_freq ={}\n",
    "show_posts_freq = {}\n",
    "other_posts_freq = {}"
   ]
  },
  {
   "cell_type": "code",
   "execution_count": 6,
   "metadata": {},
   "outputs": [
    {
     "name": "stdout",
     "output_type": "stream",
     "text": [
      "{'6': 101, '29': 8, '1': 332, '3': 195, '17': 10, '4': 137, '2': 321, '7': 66, '22': 16, '20': 10, '33': 4, '5': 98, '11': 32, '9': 52, '37': 5, '182': 1, '8': 49, '24': 4, '10': 37, '140': 1, '30': 4, '12': 30, '72': 1, '130': 1, '15': 19, '43': 5, '19': 9, '234': 1, '25': 6, '71': 1, '61': 2, '13': 10, '185': 1, '55': 2, '35': 2, '250': 1, '93': 1, '92': 1, '112': 1, '16': 15, '32': 5, '28': 4, '60': 4, '62': 2, '18': 9, '34': 2, '266': 1, '183': 1, '14': 14, '26': 5, '46': 3, '41': 4, '85': 2, '42': 3, '910': 1, '95': 1, '66': 1, '125': 1, '40': 3, '51': 2, '31': 5, '162': 1, '69': 3, '117': 1, '83': 1, '49': 2, '65': 2, '109': 1, '90': 1, '81': 1, '514': 1, '21': 6, '23': 3, '78': 1, '128': 2, '50': 4, '520': 1, '94': 1, '118': 1, '27': 3, '53': 2, '477': 1, '111': 1, '96': 1, '135': 1, '101': 1, '52': 1, '45': 2, '47': 1, '147': 1, '144': 1, '131': 1, '190': 1, '383': 1, '44': 1, '73': 2, '947': 1, '91': 1, '691': 1, '58': 2, '283': 1, '138': 1, '97': 1, '57': 1, '102': 1, '281': 1, '54': 1, '106': 1, '36': 1, '158': 1, '59': 1, '48': 1, '231': 1, '202': 1, '868': 1, '108': 1, '80': 1, '38': 1, '199': 1}\n",
      "{'22': 7, '102': 1, '1': 386, '3': 118, '9': 16, '2': 190, '4': 75, '5': 51, '8': 17, '35': 7, '6': 41, '13': 18, '46': 2, '43': 4, '63': 2, '7': 23, '34': 3, '39': 2, '33': 1, '16': 7, '15': 12, '11': 7, '65': 1, '134': 1, '30': 4, '20': 2, '76': 2, '27': 1, '23': 4, '48': 2, '26': 8, '75': 1, '10': 13, '168': 1, '95': 1, '42': 2, '69': 1, '24': 6, '31': 1, '49': 3, '12': 8, '77': 3, '90': 1, '18': 6, '14': 4, '78': 1, '17': 5, '81': 3, '25': 6, '68': 1, '32': 5, '19': 9, '306': 1, '41': 2, '38': 6, '54': 1, '28': 5, '36': 3, '21': 3, '91': 1, '80': 1, '62': 4, '47': 4, '197': 1, '50': 3, '163': 1, '100': 1, '70': 2, '98': 1, '113': 1, '56': 2, '143': 1, '92': 1, '29': 3, '233': 1, '40': 5, '55': 1, '88': 2, '44': 2, '58': 1, '206': 1, '45': 1, '106': 1, '103': 1, '167': 1, '86': 1}\n",
      "{'52': 55, '10': 235, '1': 6498, '2': 2277, '22': 104, '4': 697, '6': 431, '7': 316, '14': 142, '18': 118, '5': 503, '29': 80, '116': 15, '13': 140, '112': 22, '106': 12, '100': 19, '3': 1147, '17': 109, '63': 40, '67': 44, '26': 81, '12': 174, '73': 31, '346': 1, '213': 4, '15': 147, '172': 6, '45': 52, '20': 93, '253': 1, '160': 6, '56': 52, '39': 53, '53': 63, '211': 4, '36': 52, '51': 53, '8': 261, '188': 6, '145': 14, '46': 56, '32': 80, '71': 33, '68': 42, '41': 47, '59': 50, '133': 12, '54': 47, '11': 212, '94': 20, '83': 39, '136': 14, '64': 39, '169': 12, '162': 6, '21': 103, '25': 93, '42': 42, '84': 33, '92': 22, '50': 54, '57': 44, '147': 13, '44': 62, '194': 5, '23': 83, '58': 60, '135': 16, '69': 45, '195': 5, '246': 2, '99': 30, '76': 19, '40': 63, '275': 3, '152': 15, '24': 79, '143': 9, '48': 45, '180': 8, '62': 37, '49': 50, '117': 9, '170': 6, '33': 69, '37': 60, '199': 10, '86': 24, '19': 110, '75': 41, '201': 2, '34': 50, '155': 9, '27': 70, '120': 15, '9': 243, '74': 30, '202': 4, '165': 10, '43': 62, '157': 9, '38': 44, '182': 5, '82': 30, '218': 5, '228': 5, '124': 17, '65': 48, '31': 54, '677': 1, '274': 1, '72': 32, '16': 136, '244': 5, '168': 7, '134': 6, '80': 22, '140': 10, '243': 4, '87': 23, '47': 48, '60': 36, '96': 19, '97': 14, '30': 82, '311': 4, '121': 10, '93': 18, '176': 3, '212': 3, '103': 13, '453': 1, '189': 6, '137': 8, '175': 8, '139': 13, '132': 17, '249': 5, '126': 10, '130': 21, '66': 38, '90': 26, '111': 13, '35': 66, '28': 73, '234': 4, '118': 14, '432': 1, '381': 1, '55': 55, '85': 19, '127': 13, '123': 12, '61': 32, '388': 1, '102': 17, '359': 3, '110': 16, '326': 2, '173': 6, '113': 12, '77': 36, '158': 6, '109': 16, '502': 2, '452': 1, '70': 33, '185': 2, '91': 24, '245': 2, '142': 6, '277': 1, '184': 6, '317': 1, '241': 4, '261': 1, '197': 5, '141': 8, '154': 8, '491': 1, '204': 6, '516': 1, '429': 1, '250': 4, '229': 10, '262': 4, '171': 8, '220': 2, '281': 3, '79': 19, '232': 5, '222': 4, '138': 15, '206': 6, '164': 5, '88': 28, '119': 15, '239': 2, '316': 3, '260': 2, '237': 5, '166': 7, '105': 19, '318': 2, '89': 20, '186': 8, '200': 4, '81': 29, '108': 12, '384': 2, '107': 16, '178': 4, '214': 2, '301': 3, '397': 1, '78': 26, '125': 11, '151': 9, '144': 4, '303': 1, '282': 2, '254': 2, '98': 11, '266': 6, '183': 7, '192': 3, '114': 11, '115': 11, '278': 2, '146': 8, '131': 19, '187': 10, '148': 8, '129': 10, '149': 9, '569': 1, '248': 4, '309': 2, '486': 1, '193': 5, '159': 9, '104': 10, '122': 10, '439': 1, '101': 10, '242': 3, '283': 2, '191': 3, '298': 2, '95': 18, '259': 3, '379': 1, '330': 1, '760': 1, '351': 5, '304': 2, '910': 1, '400': 2, '333': 2, '225': 1, '167': 7, '335': 1, '302': 1, '177': 6, '521': 1, '386': 2, '174': 8, '216': 5, '268': 1, '233': 3, '270': 3, '323': 1, '376': 2, '181': 6, '227': 2, '320': 1, '387': 2, '327': 3, '315': 2, '247': 1, '128': 11, '153': 12, '205': 5, '514': 2, '312': 1, '449': 1, '430': 2, '236': 2, '196': 4, '368': 1, '448': 1, '223': 3, '457': 2, '340': 1, '519': 1, '276': 1, '279': 3, '345': 1, '420': 1, '520': 1, '150': 3, '230': 1, '644': 1, '295': 1, '513': 1, '267': 1, '163': 4, '477': 1, '207': 3, '370': 2, '322': 1, '321': 3, '219': 3, '226': 7, '273': 1, '424': 1, '313': 2, '377': 1, '451': 1, '156': 5, '495': 1, '339': 2, '290': 2, '360': 1, '209': 6, '251': 2, '224': 6, '179': 2, '289': 1, '263': 2, '198': 2, '203': 5, '280': 2, '431': 1, '269': 2, '348': 1, '190': 3, '238': 1, '314': 1, '383': 1, '419': 2, '392': 1, '252': 1, '342': 1, '271': 1, '1733': 1, '210': 4, '398': 1, '161': 4, '947': 1, '221': 3, '499': 1, '240': 4, '781': 1, '691': 1, '272': 2, '389': 1, '405': 1, '425': 1, '231': 2, '299': 4, '475': 1, '624': 1, '361': 1, '208': 3, '372': 1, '599': 1, '428': 1, '332': 1, '294': 1, '464': 1, '547': 1, '705': 1, '401': 1, '515': 1, '552': 2, '437': 1, '215': 2, '344': 1, '412': 1, '503': 1, '426': 1, '868': 1, '413': 1, '356': 1, '264': 1, '809': 1, '331': 1}\n"
     ]
    }
   ],
   "source": [
    "for row in hn:\n",
    "    count = row[4]\n",
    "    title = row[1]\n",
    "    if title.lower().startswith(\"ask hn\"):\n",
    "        if count in ask_posts_freq:\n",
    "            ask_posts_freq[count] += 1\n",
    "        else:\n",
    "            ask_posts_freq[count] = 1 \n",
    "    if title.lower().startswith(\"show hn\"):\n",
    "        if count in show_posts_freq:\n",
    "            show_posts_freq[count] += 1\n",
    "        else:\n",
    "            show_posts_freq[count] = 1 \n",
    "    else:\n",
    "        if count in other_posts_freq:\n",
    "            other_posts_freq[count] += 1\n",
    "        else:\n",
    "            other_posts_freq[count] = 1 \n",
    "\n",
    "\n",
    "print(ask_posts_freq)\n",
    "print(show_posts_freq)\n",
    "print(other_posts_freq)"
   ]
  },
  {
   "cell_type": "markdown",
   "metadata": {},
   "source": [
    "From the output it does not seem like there are any odd characters."
   ]
  },
  {
   "cell_type": "markdown",
   "metadata": {},
   "source": [
    "Calculating the average number of comments for - Ask HN and Show HN."
   ]
  },
  {
   "cell_type": "code",
   "execution_count": 7,
   "metadata": {},
   "outputs": [
    {
     "name": "stdout",
     "output_type": "stream",
     "text": [
      "Average Ask HN posts\n",
      "14.038417431192661\n",
      "\n",
      "\n",
      "Average Show HN posts\n",
      "10.31669535283993\n"
     ]
    }
   ],
   "source": [
    "total_ask_comments = 0\n",
    "total_show_comments = 0\n",
    "\n",
    "for row in hn:\n",
    "    count = int(row[4])\n",
    "    title = row[1]\n",
    "\n",
    "    if title.lower().startswith(\"ask hn\"):\n",
    "        total_ask_comments += count\n",
    "       \n",
    "    if title.lower().startswith(\"show hn\"):\n",
    "        total_show_comments += count\n",
    " \n",
    "#print(total_ask_comments)\n",
    "#print(total_show_comments)\n",
    "print(\"Average Ask HN posts\")\n",
    "avg_ask_comments = total_ask_comments/(len(ask_posts))\n",
    "print(avg_ask_comments)\n",
    "\n",
    "print(\"\\n\")\n",
    "\n",
    "print('Average Show HN posts')\n",
    "avg_show_comments = total_show_comments/(len(show_posts))\n",
    "\n",
    "print(avg_show_comments)\n"
   ]
  },
  {
   "cell_type": "markdown",
   "metadata": {},
   "source": [
    "On average ask posts get more comments than show posts. Since ask posts receive more comments on average, focusing attention just on these."
   ]
  },
  {
   "cell_type": "markdown",
   "metadata": {},
   "source": [
    "Evaluating what is a date entry like and what is the type."
   ]
  },
  {
   "cell_type": "code",
   "execution_count": 8,
   "metadata": {},
   "outputs": [
    {
     "name": "stdout",
     "output_type": "stream",
     "text": [
      "8/4/2016 11:52\n",
      "<class 'str'>\n",
      "1/26/2016 19:30\n",
      "<class 'str'>\n"
     ]
    }
   ],
   "source": [
    "for element in hn[:2]:\n",
    "    print(element[-1])\n",
    "    print(type(element[-1]))"
   ]
  },
  {
   "cell_type": "markdown",
   "metadata": {},
   "source": [
    "Testing code on how to id and append to make a new list of Ask HN."
   ]
  },
  {
   "cell_type": "code",
   "execution_count": 9,
   "metadata": {},
   "outputs": [
    {
     "name": "stdout",
     "output_type": "stream",
     "text": [
      "[['12296411', 'Ask HN: How to improve my personal website?', '', '2', '6', 'ahmedbaracat', '8/16/2016 9:55'], ['10610020', 'Ask HN: Am I the only one outraged by Twitter shutting down share counts?', '', '28', '29', 'tkfx', '11/22/2015 13:43']]\n"
     ]
    }
   ],
   "source": [
    "result_list = []\n",
    "\n",
    "for row in hn:\n",
    "    title = row[1]\n",
    "    if title.lower().startswith(\"ask hn\"):\n",
    "        result_list.append(row)\n",
    "        \n",
    "print(result_list[:2])"
   ]
  },
  {
   "cell_type": "markdown",
   "metadata": {},
   "source": [
    "Developing frequency tables for count by hour and comments."
   ]
  },
  {
   "cell_type": "code",
   "execution_count": 10,
   "metadata": {
    "scrolled": true
   },
   "outputs": [
    {
     "name": "stdout",
     "output_type": "stream",
     "text": [
      "{'09': 45, '13': 85, '10': 59, '14': 107, '16': 108, '23': 68, '12': 73, '17': 100, '15': 116, '21': 109, '20': 80, '02': 58, '18': 109, '03': 54, '05': 46, '19': 110, '01': 60, '22': 71, '08': 48, '04': 47, '00': 55, '06': 44, '07': 34, '11': 58}\n",
      "{'09': 251, '13': 1253, '10': 793, '14': 1416, '16': 1814, '23': 543, '12': 687, '17': 1146, '15': 4477, '21': 1745, '20': 1722, '02': 1381, '18': 1439, '03': 421, '05': 464, '19': 1188, '01': 683, '22': 479, '08': 492, '04': 337, '00': 447, '06': 397, '07': 267, '11': 641}\n"
     ]
    }
   ],
   "source": [
    "import datetime\n",
    "\n",
    "counts_by_hour = {}\n",
    "comments_by_hour = {}\n",
    "\n",
    "for element in result_list:\n",
    "    date_1 = element[-1]\n",
    "    comments = int(element[4])\n",
    "    \n",
    "    date_fmt = datetime.datetime.strptime(date_1, \"%m/%d/%Y %H:%M\")\n",
    "    #print(date_fmt)\n",
    "    time_hr = datetime.datetime.strftime(date_fmt,\"%H\")\n",
    "    #print(time_hr)\n",
    "    if time_hr in counts_by_hour:\n",
    "        counts_by_hour[time_hr] += 1\n",
    "    else:\n",
    "        counts_by_hour[time_hr] = 1\n",
    "    if time_hr in comments_by_hour:\n",
    "        comments_by_hour[time_hr] += comments\n",
    "    else:\n",
    "        comments_by_hour[time_hr] = comments\n",
    "        \n",
    "print(counts_by_hour)\n",
    "print(comments_by_hour)\n"
   ]
  },
  {
   "cell_type": "markdown",
   "metadata": {},
   "source": [
    "result_list.append(\n",
    "        [post[6], int(post[4])]\n",
    "    )\n",
    "    \n",
    "Above is a method to append 2 elements at teh same time to the list"
   ]
  },
  {
   "cell_type": "markdown",
   "metadata": {},
   "source": [
    "Making a dictionary of average comments by the hour."
   ]
  },
  {
   "cell_type": "code",
   "execution_count": 11,
   "metadata": {},
   "outputs": [
    {
     "name": "stdout",
     "output_type": "stream",
     "text": [
      "{'09': 5.5777777777777775, '13': 14.741176470588234, '10': 13.440677966101696, '14': 13.233644859813085, '16': 16.796296296296298, '23': 7.985294117647059, '12': 9.41095890410959, '17': 11.46, '15': 38.5948275862069, '21': 16.009174311926607, '20': 21.525, '02': 23.810344827586206, '18': 13.20183486238532, '03': 7.796296296296297, '05': 10.08695652173913, '19': 10.8, '01': 11.383333333333333, '22': 6.746478873239437, '08': 10.25, '04': 7.170212765957447, '00': 8.127272727272727, '06': 9.022727272727273, '07': 7.852941176470588, '11': 11.051724137931034}\n"
     ]
    }
   ],
   "source": [
    "avg_by_hour_dictionary = {}\n",
    "\n",
    "for key in counts_by_hour:\n",
    "    for next_key in comments_by_hour:\n",
    "        if key == next_key:\n",
    "            avg_by_hour_dictionary[key] = comments_by_hour[key]/counts_by_hour[key]\n",
    "            \n",
    "print(avg_by_hour_dictionary)"
   ]
  },
  {
   "cell_type": "markdown",
   "metadata": {},
   "source": [
    "Making a list of average comments instead of dictionary"
   ]
  },
  {
   "cell_type": "code",
   "execution_count": 12,
   "metadata": {},
   "outputs": [
    {
     "data": {
      "text/plain": [
       "[['09', 5.5777777777777775],\n",
       " ['13', 14.741176470588234],\n",
       " ['10', 13.440677966101696],\n",
       " ['14', 13.233644859813085],\n",
       " ['16', 16.796296296296298],\n",
       " ['23', 7.985294117647059],\n",
       " ['12', 9.41095890410959],\n",
       " ['17', 11.46],\n",
       " ['15', 38.5948275862069],\n",
       " ['21', 16.009174311926607],\n",
       " ['20', 21.525],\n",
       " ['02', 23.810344827586206],\n",
       " ['18', 13.20183486238532],\n",
       " ['03', 7.796296296296297],\n",
       " ['05', 10.08695652173913],\n",
       " ['19', 10.8],\n",
       " ['01', 11.383333333333333],\n",
       " ['22', 6.746478873239437],\n",
       " ['08', 10.25],\n",
       " ['04', 7.170212765957447],\n",
       " ['00', 8.127272727272727],\n",
       " ['06', 9.022727272727273],\n",
       " ['07', 7.852941176470588],\n",
       " ['11', 11.051724137931034]]"
      ]
     },
     "execution_count": 12,
     "metadata": {},
     "output_type": "execute_result"
    }
   ],
   "source": [
    "avg_by_hour = []\n",
    "\n",
    "for hr in comments_by_hour:\n",
    "    avg_by_hour.append([hr, comments_by_hour[hr] / counts_by_hour[hr]])\n",
    "#appending two items in a list at the same time\n",
    "avg_by_hour"
   ]
  },
  {
   "cell_type": "markdown",
   "metadata": {},
   "source": [
    "Swapping column for easy read"
   ]
  },
  {
   "cell_type": "code",
   "execution_count": 13,
   "metadata": {},
   "outputs": [
    {
     "name": "stdout",
     "output_type": "stream",
     "text": [
      "[[5.5777777777777775, '09'], [14.741176470588234, '13'], [13.440677966101696, '10'], [13.233644859813085, '14'], [16.796296296296298, '16'], [7.985294117647059, '23'], [9.41095890410959, '12'], [11.46, '17'], [38.5948275862069, '15'], [16.009174311926607, '21'], [21.525, '20'], [23.810344827586206, '02'], [13.20183486238532, '18'], [7.796296296296297, '03'], [10.08695652173913, '05'], [10.8, '19'], [11.383333333333333, '01'], [6.746478873239437, '22'], [10.25, '08'], [7.170212765957447, '04'], [8.127272727272727, '00'], [9.022727272727273, '06'], [7.852941176470588, '07'], [11.051724137931034, '11']]\n",
      "[[38.5948275862069, '15'], [23.810344827586206, '02'], [21.525, '20'], [16.796296296296298, '16'], [16.009174311926607, '21'], [14.741176470588234, '13'], [13.440677966101696, '10'], [13.233644859813085, '14'], [13.20183486238532, '18'], [11.46, '17'], [11.383333333333333, '01'], [11.051724137931034, '11'], [10.8, '19'], [10.25, '08'], [10.08695652173913, '05'], [9.41095890410959, '12'], [9.022727272727273, '06'], [8.127272727272727, '00'], [7.985294117647059, '23'], [7.852941176470588, '07'], [7.796296296296297, '03'], [7.170212765957447, '04'], [6.746478873239437, '22'], [5.5777777777777775, '09']]\n",
      "[[38.5948275862069, '15'], [23.810344827586206, '02'], [21.525, '20'], [16.796296296296298, '16'], [16.009174311926607, '21']]\n"
     ]
    }
   ],
   "source": [
    "swap_avg_by_hour = []\n",
    "\n",
    "for element in avg_by_hour:\n",
    "    swap_avg_by_hour.append([element[1],element[0]])\n",
    "print(swap_avg_by_hour)\n",
    "\n",
    "sorted_swap = sorted(swap_avg_by_hour, reverse=True)\n",
    "print(sorted_swap)\n",
    "\n",
    "print(sorted_swap[:5])"
   ]
  },
  {
   "cell_type": "markdown",
   "metadata": {},
   "source": [
    "Formatting the hours and averages to two decimels."
   ]
  },
  {
   "cell_type": "code",
   "execution_count": 14,
   "metadata": {},
   "outputs": [
    {
     "name": "stdout",
     "output_type": "stream",
     "text": [
      "Top 5 Hours for Ask Posts Comments\n",
      "15:00 : 38.59 average comments per post.\n",
      "02:00 : 23.81 average comments per post.\n",
      "20:00 : 21.52 average comments per post.\n",
      "16:00 : 16.80 average comments per post.\n",
      "21:00 : 16.01 average comments per post.\n"
     ]
    }
   ],
   "source": [
    "print(\"Top 5 Hours for Ask Posts Comments\")\n",
    "for element in sorted_swap[:5]:\n",
    "    hour = element[1]\n",
    "    average = element[0]\n",
    "    fmt_hr = datetime.datetime.strptime(hour,\"%H\").strftime(\"%H:%M\")\n",
    "    output = \"{} : {avg:,.2f} average comments per post.\".format(fmt_hr,avg= average)\n",
    "    print(output)\n",
    "    "
   ]
  },
  {
   "cell_type": "markdown",
   "metadata": {},
   "source": [
    "The best times for posting Ask posts for maximizing comments would be 3 PM, 2 AM followed by 8 PM (all times in Eastern Standard Time, US classification essentially New York time). While, 3 PM and 8 PM times for maximizing comments make sense - maybe HN community is wrapping up a day's work and they browse HN around 3 PM or similarly they sit down with their computers for some leisure browsing at 8 PM after dinner. The 2 AM time frame is puzzling - maybe it is the 'night owl' HN community which checks out and comments on posts before going to bed."
   ]
  },
  {
   "cell_type": "markdown",
   "metadata": {},
   "source": [
    "# Conclusion:"
   ]
  },
  {
   "cell_type": "markdown",
   "metadata": {},
   "source": [
    "The aim of this project was to analyze which out of the two - \"show\" or \"tell\" projects garner more comments from the HN community. Furthermore, what are the bext times to post to get maximum comments.\n",
    "\n",
    "We found that on average \"Ask\" or \"Tell\" posts garner more comments per post. We also found that 3 - 4 PM EST is the bext time post \"ask\" posts to get maximum comments."
   ]
  }
 ],
 "metadata": {
  "kernelspec": {
   "display_name": "Python 3",
   "language": "python",
   "name": "python3"
  },
  "language_info": {
   "codemirror_mode": {
    "name": "ipython",
    "version": 3
   },
   "file_extension": ".py",
   "mimetype": "text/x-python",
   "name": "python",
   "nbconvert_exporter": "python",
   "pygments_lexer": "ipython3",
   "version": "3.8.2"
  }
 },
 "nbformat": 4,
 "nbformat_minor": 2
}
